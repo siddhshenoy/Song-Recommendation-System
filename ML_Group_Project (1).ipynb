{
  "nbformat": 4,
  "nbformat_minor": 0,
  "metadata": {
    "colab": {
      "provenance": [],
      "collapsed_sections": [
        "jbzXYVAsBpgu",
        "GFPuxsGTsAIF",
        "ORqoPAHOSFBj",
        "apZoVjREsZvj",
        "FeQDtd98qa-t",
        "D8luiE-0VT1X",
        "5vTpTpnMVmv1",
        "YzLyp0K72rQY",
        "rF7wJgBXmEgM",
        "71w5vV0FS0Ck"
      ],
      "toc_visible": true
    },
    "kernelspec": {
      "name": "python3",
      "display_name": "Python 3"
    },
    "language_info": {
      "name": "python"
    }
  },
  "cells": [
    {
      "cell_type": "markdown",
      "source": [
        "# Imp Stuff To Run"
      ],
      "metadata": {
        "id": "LQ60r1APW_VG"
      }
    },
    {
      "cell_type": "markdown",
      "source": [
        "## Imports"
      ],
      "metadata": {
        "id": "jbzXYVAsBpgu"
      }
    },
    {
      "cell_type": "code",
      "source": [
        "from google.colab import drive\n",
        "drive.mount('/content/drive')"
      ],
      "metadata": {
        "colab": {
          "base_uri": "https://localhost:8080/"
        },
        "id": "u8ukmFwtAK6K",
        "outputId": "ee0bb98a-4826-44c9-876a-6becb99e6bb9"
      },
      "execution_count": 1,
      "outputs": [
        {
          "output_type": "stream",
          "name": "stdout",
          "text": [
            "Mounted at /content/drive\n"
          ]
        }
      ]
    },
    {
      "cell_type": "code",
      "source": [
        "import numpy as np\n",
        "import pandas as pd\n",
        "import matplotlib.pyplot as plt\n",
        "import sys, time, json, pprint, ast\n",
        "\n",
        "\n",
        "# MACHINE LEARNING\n",
        "from sklearn.preprocessing import PolynomialFeatures\n",
        "from sklearn.model_selection import train_test_split\n",
        "from sklearn.model_selection import KFold\n",
        "from sklearn.utils import shuffle\n",
        "\n",
        "# - MODELS\n",
        "from sklearn.neighbors import KNeighborsClassifier\n",
        "from sklearn.linear_model import LogisticRegression\n",
        "from sklearn.svm import SVC\n",
        "from sklearn.dummy import DummyRegressor, DummyClassifier\n",
        "\n",
        "# - METRICS\n",
        "from sklearn import metrics\n",
        "from sklearn.metrics import mean_squared_error\n",
        "from sklearn.metrics import confusion_matrix\n",
        "from sklearn.metrics import classification_report\n",
        "from sklearn.metrics import roc_curve, auc, roc_auc_score\n",
        "from yellowbrick.classifier import ROCAUC\n",
        "\n",
        "# RECOMMENDER SYSTEM\n",
        "from scipy.sparse import csr_matrix\n",
        "\n",
        "# CNN\n",
        "import tensorflow as tf\n",
        "from tensorflow import keras\n",
        "from tensorflow.keras import layers, regularizers\n",
        "from keras.layers import Dense, Dropout, Activation, Flatten, BatchNormalization\n",
        "from keras.layers import Conv2D, MaxPooling2D, LeakyReLU"
      ],
      "metadata": {
        "id": "9tdYgcCTBo49"
      },
      "execution_count": 2,
      "outputs": []
    },
    {
      "cell_type": "markdown",
      "source": [
        "## Data PreProcessing"
      ],
      "metadata": {
        "id": "n0SjK3qzo7yo"
      }
    },
    {
      "cell_type": "code",
      "source": [
        "FILE_PATH = '/content/drive/MyDrive/ML Group Project/'\n",
        "df = pd.read_excel(FILE_PATH + 'extracted_data/track_features_large.xlsx')\n",
        "\n",
        "# down = 'track_features_meme_ghazal'\n",
        "# hig_low = f'{down}.xlsx'\n",
        "\n",
        "# df = pd.read_excel(FILE_PATH + 'feature_plots/' + hig_low)\n",
        "\n",
        "df['Playlist URI'].unique()"
      ],
      "metadata": {
        "colab": {
          "base_uri": "https://localhost:8080/"
        },
        "id": "ou4LwsdtpW3g",
        "outputId": "b2063ad8-7e01-4b12-bb4d-12edd6bf29d8"
      },
      "execution_count": 3,
      "outputs": [
        {
          "output_type": "execute_result",
          "data": {
            "text/plain": [
              "array(['Country', 'LoFi', 'Rock'], dtype=object)"
            ]
          },
          "metadata": {},
          "execution_count": 3
        }
      ]
    },
    {
      "cell_type": "code",
      "source": [
        "ast.literal_eval(df['Audio Features'][0])"
      ],
      "metadata": {
        "colab": {
          "base_uri": "https://localhost:8080/"
        },
        "id": "93El10yfHzMm",
        "outputId": "5a465b33-62f9-4e83-f534-6c67705b2bab"
      },
      "execution_count": 5,
      "outputs": [
        {
          "output_type": "execute_result",
          "data": {
            "text/plain": [
              "[{'danceability': 0.369,\n",
              "  'energy': 0.192,\n",
              "  'key': 4,\n",
              "  'loudness': -12.151,\n",
              "  'mode': 0,\n",
              "  'speechiness': 0.04,\n",
              "  'acousticness': 0.555,\n",
              "  'instrumentalness': 8.35e-06,\n",
              "  'liveness': 0.0954,\n",
              "  'valence': 0.148,\n",
              "  'tempo': 175.212,\n",
              "  'type': 'audio_features',\n",
              "  'id': '3WMj8moIAXJhHsyLaqIIHI',\n",
              "  'uri': 'spotify:track:3WMj8moIAXJhHsyLaqIIHI',\n",
              "  'track_href': 'https://api.spotify.com/v1/tracks/3WMj8moIAXJhHsyLaqIIHI',\n",
              "  'analysis_url': 'https://api.spotify.com/v1/audio-analysis/3WMj8moIAXJhHsyLaqIIHI',\n",
              "  'duration_ms': 228013,\n",
              "  'time_signature': 3}]"
            ]
          },
          "metadata": {},
          "execution_count": 5
        }
      ]
    },
    {
      "cell_type": "code",
      "source": [
        "from sklearn.preprocessing import LabelEncoder\n",
        "le = LabelEncoder()\n",
        "df['Playlist URI'] = le.fit_transform(df['Playlist URI'])\n",
        "df['Playlist URI'].value_counts()"
      ],
      "metadata": {
        "colab": {
          "base_uri": "https://localhost:8080/"
        },
        "id": "g0XLyskbqaXy",
        "outputId": "d4d678fa-8bb4-43f4-843c-a1e930cdcd7c"
      },
      "execution_count": 6,
      "outputs": [
        {
          "output_type": "execute_result",
          "data": {
            "text/plain": [
              "1    823\n",
              "0    546\n",
              "2    517\n",
              "Name: Playlist URI, dtype: int64"
            ]
          },
          "metadata": {},
          "execution_count": 6
        }
      ]
    },
    {
      "cell_type": "code",
      "source": [
        "IMP_FEATURES = [\"playlist_uri\", 'key', 'loudness', 'tempo', 'duration_ms']"
      ],
      "metadata": {
        "id": "varyI8PEqhHW"
      },
      "execution_count": 7,
      "outputs": []
    },
    {
      "cell_type": "code",
      "source": [
        "import datetime\n",
        "date = datetime.datetime.now()\n",
        "date = date.strftime('%d-%m')"
      ],
      "metadata": {
        "id": "SPn4MonuqnEV"
      },
      "execution_count": 8,
      "outputs": []
    },
    {
      "cell_type": "code",
      "source": [
        "import pandas as pd\n",
        "\n",
        "store = {\n",
        "    \"key\": [],\n",
        "    \"loudness\": [],\n",
        "    \"tempo\": [],\n",
        "    \"duration_ms\": [],\n",
        "    \"playlist_uri\": [],\n",
        "}\n",
        "\n",
        "save_df = pd.DataFrame.from_dict(store)\n",
        "# save_df.to_csv(f'{FILE_PATH}feature_plots/track_features_meme_ghazal.csv', mode='w', index=False, header=True)\n",
        "save_df.to_csv(f'{FILE_PATH}extracted_data/training_data_large_{date}.csv', mode='w', index=False, header=True)"
      ],
      "metadata": {
        "id": "aXEqNHphqqAD"
      },
      "execution_count": 9,
      "outputs": []
    },
    {
      "cell_type": "code",
      "source": [
        "features = {}\n",
        "\n",
        "\n",
        "for audio_features, playlist in zip(df['Audio Features'], df['Playlist URI']):\n",
        "  features = ast.literal_eval(audio_features)\n",
        "  features[0][\"playlist_uri\"] = playlist\n",
        "  for key in list(features[0].keys()):\n",
        "    if key not in IMP_FEATURES:\n",
        "      del features[0][key]\n",
        "    else:\n",
        "      features[0][key] = [features[0][key]]\n",
        "  \n",
        "  df = pd.DataFrame.from_dict(features[0])\n",
        "  df.to_csv(f'{FILE_PATH}extracted_data/training_data_large_{date}.csv', mode='a', index=False, header=False)\n",
        "\n",
        "df = pd.read_csv(f'{FILE_PATH}extracted_data/training_data_large_{date}.csv')\n",
        "df = df.sample(frac = 1)\n",
        "# df['duration_ms'] = df['duration_ms'] / 1000\n",
        "# df.rename(columns = {'duration_ms':'sampling_seconds'}, inplace = True)\n",
        "df.to_csv(f'{FILE_PATH}extracted_data/track_features_large_{date}.csv', mode='w', index=False, header=True)"
      ],
      "metadata": {
        "id": "4F4nkWrcrbiV"
      },
      "execution_count": 10,
      "outputs": []
    },
    {
      "cell_type": "markdown",
      "source": [
        "## Normalization Functions"
      ],
      "metadata": {
        "id": "NyRlvz6ECg5A"
      }
    },
    {
      "cell_type": "markdown",
      "source": [
        "### Main Function"
      ],
      "metadata": {
        "id": "obD0pDRxETOP"
      }
    },
    {
      "cell_type": "code",
      "source": [
        "def normalize_standardize(data=None, func=None):\n",
        "  return func(data)"
      ],
      "metadata": {
        "id": "geLplE71EE3X"
      },
      "execution_count": 11,
      "outputs": []
    },
    {
      "cell_type": "markdown",
      "source": [
        "#### Sub Functions"
      ],
      "metadata": {
        "id": "cqSDyrTgEV3x"
      }
    },
    {
      "cell_type": "code",
      "source": [
        "def z_score(x):\n",
        "  return (x - x.mean())/(x.std())"
      ],
      "metadata": {
        "id": "wzqPAto7w02R"
      },
      "execution_count": 12,
      "outputs": []
    },
    {
      "cell_type": "code",
      "source": [
        "def gaussian(x):\n",
        "  return np.exp(-pow(x,2))"
      ],
      "metadata": {
        "id": "ot_m-CHEsT7A"
      },
      "execution_count": 13,
      "outputs": []
    },
    {
      "cell_type": "code",
      "source": [
        "def minmax(x):\n",
        "\treturn (x - x.min()) / (x.max() - x.min())"
      ],
      "metadata": {
        "id": "LLlJBEgVspix"
      },
      "execution_count": 14,
      "outputs": []
    },
    {
      "cell_type": "code",
      "source": [
        "def log_scale(x):\n",
        "  return np.log(x)"
      ],
      "metadata": {
        "id": "mEMbSAmkzLbv"
      },
      "execution_count": 15,
      "outputs": []
    },
    {
      "cell_type": "code",
      "source": [
        "def sigmoid(x):\n",
        "  return 1 / (1 + np.exp(-x))"
      ],
      "metadata": {
        "id": "k1XFahlapJaA"
      },
      "execution_count": 16,
      "outputs": []
    },
    {
      "cell_type": "code",
      "source": [
        "def tanh(x):\n",
        "  return (np.exp(x) - np.exp(-x)) / (np.exp(x) + np.exp(-x))"
      ],
      "metadata": {
        "id": "OY-Db0I7rpN2"
      },
      "execution_count": 17,
      "outputs": []
    },
    {
      "cell_type": "markdown",
      "source": [
        "## Consolidate DataFrames"
      ],
      "metadata": {
        "id": "GFPuxsGTsAIF"
      }
    },
    {
      "cell_type": "code",
      "execution_count": 18,
      "metadata": {
        "id": "i5FtkH6goCdY",
        "colab": {
          "base_uri": "https://localhost:8080/"
        },
        "outputId": "2cefa6b9-8b4d-469c-c5b6-e808d06992ef"
      },
      "outputs": [
        {
          "output_type": "execute_result",
          "data": {
            "text/plain": [
              "0        65860\n",
              "1       204382\n",
              "2       274259\n",
              "3       288835\n",
              "4       105404\n",
              "         ...  \n",
              "2062    420048\n",
              "2063    150857\n",
              "2064     10240\n",
              "2065    111908\n",
              "2066    189361\n",
              "Name: sampling_seconds, Length: 2067, dtype: int64"
            ]
          },
          "metadata": {},
          "execution_count": 18
        }
      ],
      "source": [
        "songs_000 = pd.read_csv(\"/content/drive/MyDrive/ML Group Project/000_Songs.csv\")\n",
        "songs_001 = pd.read_csv(\"/content/drive/MyDrive/ML Group Project/001_Songs.csv\")\n",
        "songs_002 = pd.read_csv(\"/content/drive/MyDrive/ML Group Project/002_Songs.csv\")\n",
        "songs_003 = pd.read_csv(\"/content/drive/MyDrive/ML Group Project/003_Songs.csv\")\n",
        "songs_004 = pd.read_csv(\"/content/drive/MyDrive/ML Group Project/004_Songs.csv\")\n",
        "songs_005 = pd.read_csv(\"/content/drive/MyDrive/ML Group Project/005_Songs.csv\")\n",
        "songs_006 = pd.read_csv(\"/content/drive/MyDrive/ML Group Project/006_Songs.csv\")\n",
        "songs_007 = pd.read_csv(\"/content/drive/MyDrive/ML Group Project/007_Songs.csv\")\n",
        "songs_008 = pd.read_csv(\"/content/drive/MyDrive/ML Group Project/008_Songs.csv\")\n",
        "\n",
        "track_data = pd.read_csv(\"/content/drive/MyDrive/ML Group Project/raw_tracks.csv\")\n",
        "\n",
        "\n",
        "# APPENDING DATA FROM FILES 000 AND 001\n",
        "songs = songs_000.append(songs_001).append(songs_002).append(songs_003).append(songs_004).append(songs_005).append(songs_006).append(songs_007).append(songs_008)\n",
        "\n",
        "# USING THE TRACK DATA JOINING THE audio_file AND track_id TO THE songs dataset\n",
        "consolidated = pd.merge(songs, track_data[['track_id', 'album_title', \n",
        "                                           'track_title']], how = 'left', \n",
        "                                           left_on = 'audio_file', \n",
        "                                           right_on = 'track_id')\n",
        "\n",
        "# CONVERTING SECONDS TO MILLISECONDS CASTED TO INT\n",
        "consolidated['sampling_seconds'] = consolidated['sampling_seconds']*1000\n",
        "consolidated['sampling_seconds'].astype('int')"
      ]
    },
    {
      "cell_type": "markdown",
      "source": [
        "## Read Spotify Playlist Data"
      ],
      "metadata": {
        "id": "O8ztTpYqsPj9"
      }
    },
    {
      "cell_type": "code",
      "source": [
        "playlist_train = pd.read_csv(f\"{FILE_PATH}extracted_data/training_data_large_{date}.csv\")"
      ],
      "metadata": {
        "id": "v8H55tSlpkz4"
      },
      "execution_count": 19,
      "outputs": []
    },
    {
      "cell_type": "markdown",
      "source": [
        "## Normalizing / Standardizing the training data"
      ],
      "metadata": {
        "id": "XWlAqTvaEbYo"
      }
    },
    {
      "cell_type": "code",
      "source": [
        "FEATURES = ['duration_ms','key', 'loudness', 'tempo']\n",
        "NORM_STAND = z_score"
      ],
      "metadata": {
        "id": "BjYqGKtrE3zZ"
      },
      "execution_count": 20,
      "outputs": []
    },
    {
      "cell_type": "code",
      "source": [
        "for f in FEATURES:\n",
        "  playlist_train[f] = normalize_standardize(playlist_train[f], NORM_STAND)"
      ],
      "metadata": {
        "id": "3lghSlkVFSg0"
      },
      "execution_count": 21,
      "outputs": []
    },
    {
      "cell_type": "markdown",
      "source": [
        "## Create Polynomials"
      ],
      "metadata": {
        "id": "fxe2mQJ2FjEW"
      }
    },
    {
      "cell_type": "code",
      "source": [
        "def create_polynomialFeatures(data, degree=2):\n",
        "  polyModel = PolynomialFeatures(degree=degree)\n",
        "  return polyModel.fit_transform(data)"
      ],
      "metadata": {
        "id": "y0QHZoQQFmMH"
      },
      "execution_count": 22,
      "outputs": []
    },
    {
      "cell_type": "markdown",
      "source": [
        "## Metrics"
      ],
      "metadata": {
        "id": "1yqlfN29ScgP"
      }
    },
    {
      "cell_type": "code",
      "source": [
        "def print_metrics(y_test, y_pred):\n",
        "    print(\"-\"*10+\"CONFUSION-MATRIX\"+\"-\"*10)\n",
        "    print(confusion_matrix(y_test, y_pred))\n",
        "\n",
        "    print(\"-\"*10+\"CLASSIFICATION-REPORT\"+\"-\"*10)\n",
        "    print(classification_report(y_test, y_pred))"
      ],
      "metadata": {
        "id": "jPvJBp7YSbnI"
      },
      "execution_count": 23,
      "outputs": []
    },
    {
      "cell_type": "code",
      "source": [
        "def plot_ROC_curve(model, xtrain, ytrain, xtest, ytest, ax=None):\n",
        "  # Creating visualization with the readable labels\n",
        "  fig, ax = plt.subplots()\n",
        "  visualizer = ROCAUC(model, encoder={0: '0', \n",
        "                                      1: '1', \n",
        "                                      2: '2', \n",
        "                                      3: '3'}, macro=False, micro=False, ax=ax)\n",
        "                                      \n",
        "  # Fitting to the training data first then scoring with the test data                                    \n",
        "  visualizer.fit(xtrain, ytrain)\n",
        "  visualizer.score(xtest, ytest)\n",
        "  visualizer.finalize(expressive=True)\n",
        "  ax.set_ylim([-0.01, 1.01])\n",
        "  ax.set_xlim([-0.01, 1.01])\n",
        "  \n",
        "  return visualizer"
      ],
      "metadata": {
        "id": "EpNomfUfuiDE"
      },
      "execution_count": 24,
      "outputs": []
    },
    {
      "cell_type": "markdown",
      "source": [
        "# KNN Classifier"
      ],
      "metadata": {
        "id": "91HcjOuzF_Fm"
      }
    },
    {
      "cell_type": "code",
      "source": [
        "model = KNeighborsClassifier(metric='cosine')\n",
        "\n",
        "X = playlist_train[FEATURES]\n",
        "y = playlist_train['playlist_uri']\n",
        "\n",
        "X_train, X_test, y_train, y_test = train_test_split(X, y, test_size=0.2, random_state=1)\n",
        "\n",
        "model.fit(X_train, y_train)\n",
        "y_pred = model.predict(X_test)\n",
        "\n",
        "print_metrics(y_test, y_pred)"
      ],
      "metadata": {
        "id": "_Juzh6A2qeLB",
        "colab": {
          "base_uri": "https://localhost:8080/"
        },
        "outputId": "7fbca0d8-a583-459c-a757-12fd44e9a665"
      },
      "execution_count": 25,
      "outputs": [
        {
          "output_type": "stream",
          "name": "stdout",
          "text": [
            "----------CONFUSION-MATRIX----------\n",
            "[[ 53  22  33]\n",
            " [ 13 141   4]\n",
            " [ 43  10  59]]\n",
            "----------CLASSIFICATION-REPORT----------\n",
            "              precision    recall  f1-score   support\n",
            "\n",
            "           0       0.49      0.49      0.49       108\n",
            "           1       0.82      0.89      0.85       158\n",
            "           2       0.61      0.53      0.57       112\n",
            "\n",
            "    accuracy                           0.67       378\n",
            "   macro avg       0.64      0.64      0.64       378\n",
            "weighted avg       0.66      0.67      0.66       378\n",
            "\n"
          ]
        }
      ]
    },
    {
      "cell_type": "code",
      "source": [
        "y_pred = model.predict(X_train)\n",
        "print_metrics(y_train, y_pred)"
      ],
      "metadata": {
        "colab": {
          "base_uri": "https://localhost:8080/"
        },
        "id": "DPhtcjRvQMeU",
        "outputId": "5c142230-342b-4366-aa65-0c09fac5bd83"
      },
      "execution_count": 26,
      "outputs": [
        {
          "output_type": "stream",
          "name": "stdout",
          "text": [
            "----------CONFUSION-MATRIX----------\n",
            "[[291  67  80]\n",
            " [ 43 605  17]\n",
            " [ 83  36 286]]\n",
            "----------CLASSIFICATION-REPORT----------\n",
            "              precision    recall  f1-score   support\n",
            "\n",
            "           0       0.70      0.66      0.68       438\n",
            "           1       0.85      0.91      0.88       665\n",
            "           2       0.75      0.71      0.73       405\n",
            "\n",
            "    accuracy                           0.78      1508\n",
            "   macro avg       0.77      0.76      0.76      1508\n",
            "weighted avg       0.78      0.78      0.78      1508\n",
            "\n"
          ]
        }
      ]
    },
    {
      "cell_type": "code",
      "source": [
        "test = consolidated.rename(columns = {'sampling_seconds':'duration_ms', 'bpm':'tempo'})\n",
        "\n",
        "new_pred = test[FEATURES]\n",
        "\n",
        "for f in FEATURES:\n",
        "  new_pred[f] = normalize_standardize(new_pred[f], NORM_STAND)\n",
        "\n",
        "pred_playlist = model.predict(new_pred)"
      ],
      "metadata": {
        "id": "nmvh20M7s6RM",
        "colab": {
          "base_uri": "https://localhost:8080/"
        },
        "outputId": "ae388d93-34ac-4312-d407-30017f5563a9"
      },
      "execution_count": 27,
      "outputs": [
        {
          "output_type": "stream",
          "name": "stderr",
          "text": [
            "<ipython-input-27-6063daa6bc9b>:6: SettingWithCopyWarning: \n",
            "A value is trying to be set on a copy of a slice from a DataFrame.\n",
            "Try using .loc[row_indexer,col_indexer] = value instead\n",
            "\n",
            "See the caveats in the documentation: https://pandas.pydata.org/pandas-docs/stable/user_guide/indexing.html#returning-a-view-versus-a-copy\n",
            "  new_pred[f] = normalize_standardize(new_pred[f], NORM_STAND)\n"
          ]
        }
      ]
    },
    {
      "cell_type": "code",
      "source": [
        "new = pd.DataFrame(pred_playlist)\n",
        "new.value_counts()"
      ],
      "metadata": {
        "id": "KJoXTJJwy7if",
        "colab": {
          "base_uri": "https://localhost:8080/"
        },
        "outputId": "ad76be7a-4bfb-4b83-a13e-4856df7e3471"
      },
      "execution_count": 28,
      "outputs": [
        {
          "output_type": "execute_result",
          "data": {
            "text/plain": [
              "1    1023\n",
              "0     673\n",
              "2     371\n",
              "dtype: int64"
            ]
          },
          "metadata": {},
          "execution_count": 28
        }
      ]
    },
    {
      "cell_type": "markdown",
      "source": [
        "### Baseline Predictor"
      ],
      "metadata": {
        "id": "ORqoPAHOSFBj"
      }
    },
    {
      "cell_type": "code",
      "source": [
        "dmfr = DummyClassifier(strategy='most_frequent').fit(X_train, y_train)\n",
        "dmun = DummyClassifier(strategy='uniform').fit(X_train, y_train)\n",
        "dstrut = DummyClassifier(strategy='stratified').fit(X_train, y_train)"
      ],
      "metadata": {
        "id": "ISw4PN6FRcS3"
      },
      "execution_count": 29,
      "outputs": []
    },
    {
      "cell_type": "code",
      "source": [
        "plot_ROC_curve(model, X_train, y_train, X_test, y_test);"
      ],
      "metadata": {
        "colab": {
          "base_uri": "https://localhost:8080/",
          "height": 432
        },
        "id": "M3IUEQ2Outl9",
        "outputId": "ef332b06-af58-47f6-8fc1-4c914f599d04"
      },
      "execution_count": 30,
      "outputs": [
        {
          "output_type": "stream",
          "name": "stderr",
          "text": [
            "/usr/local/lib/python3.8/dist-packages/sklearn/base.py:450: UserWarning: X does not have valid feature names, but KNeighborsClassifier was fitted with feature names\n",
            "  warnings.warn(\n"
          ]
        },
        {
          "output_type": "display_data",
          "data": {
            "text/plain": [
              "<Figure size 576x396 with 1 Axes>"
            ],
            "image/png": "[encoded data removed]"
          },
          "metadata": {}
        }
      ]
    },
    {
      "cell_type": "code",
      "source": [
        "print(\"\\n\\nDUMMY CLASSIFIER - Stratified\")\n",
        "print(dstrut.score(X_test, y_test))\n",
        "y_pred = dstrut.predict(X_test)\n",
        "print_metrics(y_test, y_pred)"
      ],
      "metadata": {
        "colab": {
          "base_uri": "https://localhost:8080/"
        },
        "id": "UYRcIhH9SWyf",
        "outputId": "42dfcded-d6ba-418b-f75b-ba940fad88be"
      },
      "execution_count": 31,
      "outputs": [
        {
          "output_type": "stream",
          "name": "stdout",
          "text": [
            "\n",
            "\n",
            "DUMMY CLASSIFIER - Stratified\n",
            "0.36772486772486773\n",
            "----------CONFUSION-MATRIX----------\n",
            "[[31 44 33]\n",
            " [40 73 45]\n",
            " [31 45 36]]\n",
            "----------CLASSIFICATION-REPORT----------\n",
            "              precision    recall  f1-score   support\n",
            "\n",
            "           0       0.30      0.29      0.30       108\n",
            "           1       0.45      0.46      0.46       158\n",
            "           2       0.32      0.32      0.32       112\n",
            "\n",
            "    accuracy                           0.37       378\n",
            "   macro avg       0.36      0.36      0.36       378\n",
            "weighted avg       0.37      0.37      0.37       378\n",
            "\n"
          ]
        }
      ]
    },
    {
      "cell_type": "markdown",
      "source": [
        "# Logistic Regression Recommendation"
      ],
      "metadata": {
        "id": "XqlTpip_RgYZ"
      }
    },
    {
      "cell_type": "code",
      "source": [
        "X = playlist_train[FEATURES]\n",
        "y = playlist_train['playlist_uri']\n",
        "\n",
        "model = LogisticRegression()\n",
        "\n",
        "X_poly = create_polynomialFeatures(X, degree=2)\n",
        "X_train, X_test, y_train, y_test = train_test_split(X_poly, y, test_size=0.2, random_state = 1)\n",
        "\n",
        "model.fit(X_train, y_train)\n",
        "\n",
        "y_pred = model.predict(X_test)\n",
        "\n",
        "print_metrics(y_test, y_pred)"
      ],
      "metadata": {
        "id": "SeVGrefaHGdI",
        "colab": {
          "base_uri": "https://localhost:8080/"
        },
        "outputId": "a334e073-a2b6-41a6-cd4d-5809e73e8f5d"
      },
      "execution_count": 32,
      "outputs": [
        {
          "output_type": "stream",
          "name": "stdout",
          "text": [
            "----------CONFUSION-MATRIX----------\n",
            "[[ 58  21  29]\n",
            " [ 12 143   3]\n",
            " [ 39   7  66]]\n",
            "----------CLASSIFICATION-REPORT----------\n",
            "              precision    recall  f1-score   support\n",
            "\n",
            "           0       0.53      0.54      0.53       108\n",
            "           1       0.84      0.91      0.87       158\n",
            "           2       0.67      0.59      0.63       112\n",
            "\n",
            "    accuracy                           0.71       378\n",
            "   macro avg       0.68      0.68      0.68       378\n",
            "weighted avg       0.70      0.71      0.70       378\n",
            "\n"
          ]
        }
      ]
    },
    {
      "cell_type": "code",
      "source": [
        "y_pred = model.predict(X_train)\n",
        "print_metrics(y_train, y_pred)"
      ],
      "metadata": {
        "colab": {
          "base_uri": "https://localhost:8080/"
        },
        "id": "SNzhHZEwQiiH",
        "outputId": "805b12bc-f543-4aef-826a-1e9d1af0859b"
      },
      "execution_count": 33,
      "outputs": [
        {
          "output_type": "stream",
          "name": "stdout",
          "text": [
            "----------CONFUSION-MATRIX----------\n",
            "[[247  77 114]\n",
            " [ 70 579  16]\n",
            " [104  29 272]]\n",
            "----------CLASSIFICATION-REPORT----------\n",
            "              precision    recall  f1-score   support\n",
            "\n",
            "           0       0.59      0.56      0.58       438\n",
            "           1       0.85      0.87      0.86       665\n",
            "           2       0.68      0.67      0.67       405\n",
            "\n",
            "    accuracy                           0.73      1508\n",
            "   macro avg       0.70      0.70      0.70      1508\n",
            "weighted avg       0.72      0.73      0.73      1508\n",
            "\n"
          ]
        }
      ]
    },
    {
      "cell_type": "code",
      "source": [
        "model.coef_"
      ],
      "metadata": {
        "colab": {
          "base_uri": "https://localhost:8080/"
        },
        "id": "61PG9a428hIR",
        "outputId": "98885b5d-1444-4e68-e7ff-86621a310e14"
      },
      "execution_count": 34,
      "outputs": [
        {
          "output_type": "execute_result",
          "data": {
            "text/plain": [
              "array([[-1.83383373e-03,  5.23470043e-01,  2.71542499e-02,\n",
              "         2.50000702e-01,  3.75422279e-02, -5.68204987e-01,\n",
              "        -4.82318752e-02,  1.82684664e-02,  2.71593485e-02,\n",
              "        -6.07580794e-02,  1.72533726e-01,  1.02317665e-02,\n",
              "        -1.09225985e-02,  6.23066369e-05,  1.36172895e-01],\n",
              "       [-8.38675968e-04, -3.32092073e-01, -5.03700626e-02,\n",
              "        -2.55821147e+00, -2.98535363e-01,  3.83882223e-01,\n",
              "        -9.86958682e-02, -8.75855355e-02,  1.13367242e-01,\n",
              "        -2.66575988e-02, -1.45906680e-01, -8.77293831e-02,\n",
              "        -3.69946711e-01, -1.76473298e-01,  9.52550641e-02],\n",
              "       [ 2.67250970e-03, -1.91377970e-01,  2.32158127e-02,\n",
              "         2.30821076e+00,  2.60993135e-01,  1.84322764e-01,\n",
              "         1.46927743e-01,  6.93170690e-02, -1.40526591e-01,\n",
              "         8.74156782e-02, -2.66270461e-02,  7.74976166e-02,\n",
              "         3.80869309e-01,  1.76410991e-01, -2.31427959e-01]])"
            ]
          },
          "metadata": {},
          "execution_count": 34
        }
      ]
    },
    {
      "cell_type": "code",
      "source": [
        "x_axis = np.arange(0,15)\n",
        "y_axis_1 = model.coef_[0]\n",
        "y_axis_2 = model.coef_[1]\n",
        "y_axis_3 = model.coef_[2]\n",
        "\n",
        "plt.plot(x_axis, y_axis_1, label = 'Playlist 1')\n",
        "plt.plot(x_axis, y_axis_2, label = 'Playlist 2')\n",
        "plt.plot(x_axis, y_axis_3, label = 'Playlist 3')\n",
        "\n",
        "plt.xlabel('Feature Number', fontweight ='bold', fontsize = 15)\n",
        "plt.ylabel('Weight', fontweight ='bold', fontsize = 15)\n",
        "\n",
        "plt.legend()"
      ],
      "metadata": {
        "colab": {
          "base_uri": "https://localhost:8080/",
          "height": 383
        },
        "id": "_9QGbPpS9pvy",
        "outputId": "e0e6fc9a-fe4b-42b3-a01f-c7c433d35b9d"
      },
      "execution_count": 35,
      "outputs": [
        {
          "output_type": "execute_result",
          "data": {
            "text/plain": [
              "<matplotlib.legend.Legend at 0x7f987f2f10a0>"
            ]
          },
          "metadata": {},
          "execution_count": 35
        },
        {
          "output_type": "display_data",
          "data": {
            "text/plain": [
              "<Figure size 576x396 with 1 Axes>"
            ],
            "image/png": "[encoded data removed]"
          },
          "metadata": {}
        }
      ]
    },
    {
      "cell_type": "code",
      "source": [
        "test = consolidated.rename(columns = {'sampling_seconds':'duration_ms', 'bpm':'tempo'})\n",
        "\n",
        "new_pred = test[FEATURES]\n",
        "\n",
        "for f in FEATURES:\n",
        "  new_pred[f] = normalize_standardize(new_pred[f], NORM_STAND)\n",
        "\n",
        "new_pred_poly = create_polynomialFeatures(new_pred, degree=2)\n",
        "pred_playlist = model.predict(new_pred_poly)"
      ],
      "metadata": {
        "id": "T1EuJXGwgP_a",
        "colab": {
          "base_uri": "https://localhost:8080/"
        },
        "outputId": "a8fff7bf-0e84-44cd-d870-2e1f375d3883"
      },
      "execution_count": 36,
      "outputs": [
        {
          "output_type": "stream",
          "name": "stderr",
          "text": [
            "<ipython-input-36-4eb1e254dfd9>:6: SettingWithCopyWarning: \n",
            "A value is trying to be set on a copy of a slice from a DataFrame.\n",
            "Try using .loc[row_indexer,col_indexer] = value instead\n",
            "\n",
            "See the caveats in the documentation: https://pandas.pydata.org/pandas-docs/stable/user_guide/indexing.html#returning-a-view-versus-a-copy\n",
            "  new_pred[f] = normalize_standardize(new_pred[f], NORM_STAND)\n"
          ]
        }
      ]
    },
    {
      "cell_type": "code",
      "source": [
        "new = pd.DataFrame(pred_playlist)\n",
        "new.value_counts()"
      ],
      "metadata": {
        "colab": {
          "base_uri": "https://localhost:8080/"
        },
        "id": "bP4VWxsyzr_L",
        "outputId": "3c3da75a-c4b7-4125-f579-e16fc0e466a4"
      },
      "execution_count": 37,
      "outputs": [
        {
          "output_type": "execute_result",
          "data": {
            "text/plain": [
              "1    1053\n",
              "0     528\n",
              "2     486\n",
              "dtype: int64"
            ]
          },
          "metadata": {},
          "execution_count": 37
        }
      ]
    },
    {
      "cell_type": "markdown",
      "source": [
        "### Baseline Predictor"
      ],
      "metadata": {
        "id": "apZoVjREsZvj"
      }
    },
    {
      "cell_type": "code",
      "source": [
        "plot_ROC_curve(model, X_train, y_train, X_test, y_test)"
      ],
      "metadata": {
        "colab": {
          "base_uri": "https://localhost:8080/",
          "height": 430
        },
        "id": "R5od4KM2w715",
        "outputId": "08fd5c2e-0111-4f87-e4d2-02e5fd9a40da"
      },
      "execution_count": 38,
      "outputs": [
        {
          "output_type": "execute_result",
          "data": {
            "text/plain": [
              "ROCAUC(ax=<matplotlib.axes._subplots.AxesSubplot object at 0x7f987edd2fd0>,\n",
              "       encoder={0: '0', 1: '1', 2: '2', 3: '3'}, estimator=LogisticRegression(),\n",
              "       macro=False, micro=False)"
            ]
          },
          "metadata": {},
          "execution_count": 38
        },
        {
          "output_type": "display_data",
          "data": {
            "text/plain": [
              "<Figure size 576x396 with 1 Axes>"
            ],
            "image/png": "[encoded data removed]"
          },
          "metadata": {}
        }
      ]
    },
    {
      "cell_type": "code",
      "source": [
        "dmfr = DummyClassifier(strategy='most_frequent').fit(X_train, y_train)\n",
        "dmun = DummyClassifier(strategy='uniform').fit(X_train, y_train)"
      ],
      "metadata": {
        "id": "9VKJHDUvsZvk"
      },
      "execution_count": 39,
      "outputs": []
    },
    {
      "cell_type": "code",
      "source": [
        "print(\"\\n\\nDUMMY CLASSIFIER - frequent\")\n",
        "print(dmfr.score(X_test, y_test))\n",
        "y_pred = dmfr.predict(X_test)\n",
        "print_metrics(y_test, y_pred)"
      ],
      "metadata": {
        "colab": {
          "base_uri": "https://localhost:8080/"
        },
        "outputId": "5f9d871f-6fe6-4c4d-aafa-c2d5edd7dd52",
        "id": "y7VZosfgsZvk"
      },
      "execution_count": 40,
      "outputs": [
        {
          "output_type": "stream",
          "name": "stdout",
          "text": [
            "\n",
            "\n",
            "DUMMY CLASSIFIER - frequent\n",
            "0.41798941798941797\n",
            "----------CONFUSION-MATRIX----------\n",
            "[[  0 108   0]\n",
            " [  0 158   0]\n",
            " [  0 112   0]]\n",
            "----------CLASSIFICATION-REPORT----------\n",
            "              precision    recall  f1-score   support\n",
            "\n",
            "           0       0.00      0.00      0.00       108\n",
            "           1       0.42      1.00      0.59       158\n",
            "           2       0.00      0.00      0.00       112\n",
            "\n",
            "    accuracy                           0.42       378\n",
            "   macro avg       0.14      0.33      0.20       378\n",
            "weighted avg       0.17      0.42      0.25       378\n",
            "\n"
          ]
        },
        {
          "output_type": "stream",
          "name": "stderr",
          "text": [
            "/usr/local/lib/python3.8/dist-packages/sklearn/metrics/_classification.py:1318: UndefinedMetricWarning: Precision and F-score are ill-defined and being set to 0.0 in labels with no predicted samples. Use `zero_division` parameter to control this behavior.\n",
            "  _warn_prf(average, modifier, msg_start, len(result))\n",
            "/usr/local/lib/python3.8/dist-packages/sklearn/metrics/_classification.py:1318: UndefinedMetricWarning: Precision and F-score are ill-defined and being set to 0.0 in labels with no predicted samples. Use `zero_division` parameter to control this behavior.\n",
            "  _warn_prf(average, modifier, msg_start, len(result))\n",
            "/usr/local/lib/python3.8/dist-packages/sklearn/metrics/_classification.py:1318: UndefinedMetricWarning: Precision and F-score are ill-defined and being set to 0.0 in labels with no predicted samples. Use `zero_division` parameter to control this behavior.\n",
            "  _warn_prf(average, modifier, msg_start, len(result))\n"
          ]
        }
      ]
    },
    {
      "cell_type": "code",
      "source": [
        "print(\"\\n\\nDUMMY CLASSIFIER - Stratified\")\n",
        "print(dstrut.score(X_test, y_test))\n",
        "y_pred = dstrut.predict(X_test)\n",
        "print_metrics(y_test, y_pred)"
      ],
      "metadata": {
        "colab": {
          "base_uri": "https://localhost:8080/"
        },
        "outputId": "8c63e33a-cc7f-4577-920c-edea04e6c753",
        "id": "ZjApOzldsZvl"
      },
      "execution_count": 41,
      "outputs": [
        {
          "output_type": "stream",
          "name": "stdout",
          "text": [
            "\n",
            "\n",
            "DUMMY CLASSIFIER - Stratified\n",
            "0.35185185185185186\n",
            "----------CONFUSION-MATRIX----------\n",
            "[[36 50 22]\n",
            " [48 63 47]\n",
            " [32 50 30]]\n",
            "----------CLASSIFICATION-REPORT----------\n",
            "              precision    recall  f1-score   support\n",
            "\n",
            "           0       0.31      0.33      0.32       108\n",
            "           1       0.39      0.40      0.39       158\n",
            "           2       0.30      0.27      0.28       112\n",
            "\n",
            "    accuracy                           0.34       378\n",
            "   macro avg       0.33      0.33      0.33       378\n",
            "weighted avg       0.34      0.34      0.34       378\n",
            "\n"
          ]
        }
      ]
    },
    {
      "cell_type": "markdown",
      "source": [
        "# MLP Classifier"
      ],
      "metadata": {
        "id": "PnVgdn7qUdYx"
      }
    },
    {
      "cell_type": "code",
      "source": [
        "from sklearn.neural_network import MLPClassifier\n",
        "\n",
        "classifier = MLPClassifier(hidden_layer_sizes=(200, 150,100,50), max_iter=30,activation = 'relu',\n",
        "                           solver='adam',random_state=1, alpha = 0.001)\n",
        "\n",
        "X = playlist_train[FEATURES]\n",
        "y = playlist_train['playlist_uri']\n",
        "\n",
        "X_train, X_test, y_train, y_test = train_test_split(X, y, test_size=0.2, random_state = 1)"
      ],
      "metadata": {
        "id": "FZAxWTLe1kYv"
      },
      "execution_count": 42,
      "outputs": []
    },
    {
      "cell_type": "code",
      "source": [
        "classifier.fit(X_train, y_train)\n",
        "y_pred = classifier.predict(X_test)"
      ],
      "metadata": {
        "id": "BIbp0Ea6Ubtq",
        "colab": {
          "base_uri": "https://localhost:8080/"
        },
        "outputId": "c14da1b0-41e0-4882-bfe1-6904f2ab14de"
      },
      "execution_count": 43,
      "outputs": [
        {
          "output_type": "stream",
          "name": "stderr",
          "text": [
            "/usr/local/lib/python3.8/dist-packages/sklearn/neural_network/_multilayer_perceptron.py:692: ConvergenceWarning: Stochastic Optimizer: Maximum iterations (30) reached and the optimization hasn't converged yet.\n",
            "  warnings.warn(\n"
          ]
        }
      ]
    },
    {
      "cell_type": "code",
      "source": [
        "print_metrics(y_test, y_pred)"
      ],
      "metadata": {
        "colab": {
          "base_uri": "https://localhost:8080/"
        },
        "id": "I4-dckSGUqpL",
        "outputId": "d83d32f5-4347-4143-d333-b47648afba50"
      },
      "execution_count": 44,
      "outputs": [
        {
          "output_type": "stream",
          "name": "stdout",
          "text": [
            "----------CONFUSION-MATRIX----------\n",
            "[[ 56  27  25]\n",
            " [  8 147   3]\n",
            " [ 38   8  66]]\n",
            "----------CLASSIFICATION-REPORT----------\n",
            "              precision    recall  f1-score   support\n",
            "\n",
            "           0       0.55      0.52      0.53       108\n",
            "           1       0.81      0.93      0.86       158\n",
            "           2       0.70      0.59      0.64       112\n",
            "\n",
            "    accuracy                           0.71       378\n",
            "   macro avg       0.69      0.68      0.68       378\n",
            "weighted avg       0.70      0.71      0.70       378\n",
            "\n"
          ]
        }
      ]
    },
    {
      "cell_type": "code",
      "source": [
        "y_pred = classifier.predict(X_train)\n",
        "print_metrics(y_train, y_pred)"
      ],
      "metadata": {
        "colab": {
          "base_uri": "https://localhost:8080/"
        },
        "id": "h4c1ys35Qsb6",
        "outputId": "d22d747a-aa2e-4c10-a46a-b93814064dd3"
      },
      "execution_count": 45,
      "outputs": [
        {
          "output_type": "stream",
          "name": "stdout",
          "text": [
            "----------CONFUSION-MATRIX----------\n",
            "[[264  86  88]\n",
            " [ 40 615  10]\n",
            " [102  31 272]]\n",
            "----------CLASSIFICATION-REPORT----------\n",
            "              precision    recall  f1-score   support\n",
            "\n",
            "           0       0.65      0.60      0.63       438\n",
            "           1       0.84      0.92      0.88       665\n",
            "           2       0.74      0.67      0.70       405\n",
            "\n",
            "    accuracy                           0.76      1508\n",
            "   macro avg       0.74      0.73      0.74      1508\n",
            "weighted avg       0.76      0.76      0.76      1508\n",
            "\n"
          ]
        }
      ]
    },
    {
      "cell_type": "code",
      "source": [
        "test = consolidated.rename(columns = {'sampling_seconds':'duration_ms', 'bpm':'tempo'})\n",
        "\n",
        "new_pred = test[FEATURES]\n",
        "\n",
        "for f in FEATURES:\n",
        "  new_pred[f] = normalize_standardize(new_pred[f], NORM_STAND)\n",
        "\n",
        "pred_playlist = classifier.predict(new_pred)"
      ],
      "metadata": {
        "colab": {
          "base_uri": "https://localhost:8080/"
        },
        "id": "1xaVYFp5TclF",
        "outputId": "f01f78d5-84e2-4739-a84c-e52b6ee051a0"
      },
      "execution_count": 46,
      "outputs": [
        {
          "output_type": "stream",
          "name": "stderr",
          "text": [
            "<ipython-input-46-7c0871dcc0a2>:6: SettingWithCopyWarning: \n",
            "A value is trying to be set on a copy of a slice from a DataFrame.\n",
            "Try using .loc[row_indexer,col_indexer] = value instead\n",
            "\n",
            "See the caveats in the documentation: https://pandas.pydata.org/pandas-docs/stable/user_guide/indexing.html#returning-a-view-versus-a-copy\n",
            "  new_pred[f] = normalize_standardize(new_pred[f], NORM_STAND)\n"
          ]
        }
      ]
    },
    {
      "cell_type": "code",
      "source": [
        "new = pd.DataFrame(pred_playlist)\n",
        "new.value_counts()"
      ],
      "metadata": {
        "id": "8JCSlfHlTgwa",
        "outputId": "06748840-9b9b-4ea9-bdd6-ebd80484db17",
        "colab": {
          "base_uri": "https://localhost:8080/"
        }
      },
      "execution_count": 47,
      "outputs": [
        {
          "output_type": "execute_result",
          "data": {
            "text/plain": [
              "1    1124\n",
              "2     487\n",
              "0     456\n",
              "dtype: int64"
            ]
          },
          "metadata": {},
          "execution_count": 47
        }
      ]
    },
    {
      "cell_type": "code",
      "source": [
        "\n",
        "x_axis = np.arange(len(classifier.loss_curve_))\n",
        "y_axis = classifier.loss_curve_\n",
        "\n",
        "plt.plot(x_axis, y_axis)\n",
        "\n",
        "plt.xlabel('# Iterations', fontweight ='bold', fontsize = 15)\n",
        "plt.ylabel('Loss', fontweight ='bold', fontsize = 15)\n",
        "\n",
        "plt.legend()"
      ],
      "metadata": {
        "colab": {
          "base_uri": "https://localhost:8080/",
          "height": 401
        },
        "id": "r2K9lUPzCUTp",
        "outputId": "09891c6e-6fb7-4f3b-b272-09a4d416ddff"
      },
      "execution_count": 48,
      "outputs": [
        {
          "output_type": "stream",
          "name": "stderr",
          "text": [
            "WARNING:matplotlib.legend:No handles with labels found to put in legend.\n"
          ]
        },
        {
          "output_type": "execute_result",
          "data": {
            "text/plain": [
              "<matplotlib.legend.Legend at 0x7f987edbf160>"
            ]
          },
          "metadata": {},
          "execution_count": 48
        },
        {
          "output_type": "display_data",
          "data": {
            "text/plain": [
              "<Figure size 576x396 with 1 Axes>"
            ],
            "image/png": "[encoded data removed]"
          },
          "metadata": {}
        }
      ]
    },
    {
      "cell_type": "code",
      "source": [
        "from sklearn.model_selection import learning_curve\n",
        "\n",
        "train_sizes, train_scores, test_scores = learning_curve(estimator = MLPClassifier(hidden_layer_sizes=(200, 150,100,50), max_iter=30,\n",
        "                                                                                  activation = 'relu',solver='adam',random_state=1),\n",
        "                                                        X = X_train, y = y_train, cv = 3, train_sizes = np.linspace(0.1,1,5))\n",
        "\n",
        "train_mean = np.mean(train_scores, axis=1)\n",
        "train_std = np.std(train_scores, axis=1)\n",
        "test_mean = np.mean(test_scores, axis=1)\n",
        "test_std = np.std(test_scores, axis=1)\n",
        "\n",
        "plt.plot(train_sizes, train_mean,\n",
        "         color = \"blue\", marker = 'o',\n",
        "         markersize = 5,label  ='Training accuracy')\n",
        "\n",
        "plt.fill_between(train_sizes, \n",
        "                 train_mean + train_std, \n",
        "                 train_mean - train_std,\n",
        "                 alpha=0.15, color = 'blue')\n",
        "\n",
        "plt.plot(train_sizes, test_mean, \n",
        "         color='red', linestyle = '--',\n",
        "         marker = 's',markersize = 5, \n",
        "         label = 'Validation accuracy')\n",
        "\n",
        "plt.fill_between(train_sizes, \n",
        "                 test_mean + test_std, \n",
        "                 test_mean - test_std,\n",
        "                 alpha=0.15, color = 'green')\n",
        "    \n",
        "\n",
        "plt.grid()\n",
        "plt.xlabel('Number of training examples',fontweight ='bold', fontsize = 15)\n",
        "plt.ylabel('Accuracy',fontweight ='bold', fontsize = 15)\n",
        "plt.legend(loc = 'lower right')\n",
        "plt.ylim([0.25, 1.01])\n",
        "plt.show"
      ],
      "metadata": {
        "colab": {
          "base_uri": "https://localhost:8080/",
          "height": 939
        },
        "id": "9bSE8quNEES9",
        "outputId": "8498f08b-938c-4a70-d9b5-45ecdd956b2e"
      },
      "execution_count": 49,
      "outputs": [
        {
          "output_type": "stream",
          "name": "stderr",
          "text": [
            "/usr/local/lib/python3.8/dist-packages/sklearn/neural_network/_multilayer_perceptron.py:692: ConvergenceWarning: Stochastic Optimizer: Maximum iterations (30) reached and the optimization hasn't converged yet.\n",
            "  warnings.warn(\n",
            "/usr/local/lib/python3.8/dist-packages/sklearn/neural_network/_multilayer_perceptron.py:692: ConvergenceWarning: Stochastic Optimizer: Maximum iterations (30) reached and the optimization hasn't converged yet.\n",
            "  warnings.warn(\n",
            "/usr/local/lib/python3.8/dist-packages/sklearn/neural_network/_multilayer_perceptron.py:692: ConvergenceWarning: Stochastic Optimizer: Maximum iterations (30) reached and the optimization hasn't converged yet.\n",
            "  warnings.warn(\n",
            "/usr/local/lib/python3.8/dist-packages/sklearn/neural_network/_multilayer_perceptron.py:692: ConvergenceWarning: Stochastic Optimizer: Maximum iterations (30) reached and the optimization hasn't converged yet.\n",
            "  warnings.warn(\n",
            "/usr/local/lib/python3.8/dist-packages/sklearn/neural_network/_multilayer_perceptron.py:692: ConvergenceWarning: Stochastic Optimizer: Maximum iterations (30) reached and the optimization hasn't converged yet.\n",
            "  warnings.warn(\n",
            "/usr/local/lib/python3.8/dist-packages/sklearn/neural_network/_multilayer_perceptron.py:692: ConvergenceWarning: Stochastic Optimizer: Maximum iterations (30) reached and the optimization hasn't converged yet.\n",
            "  warnings.warn(\n",
            "/usr/local/lib/python3.8/dist-packages/sklearn/neural_network/_multilayer_perceptron.py:692: ConvergenceWarning: Stochastic Optimizer: Maximum iterations (30) reached and the optimization hasn't converged yet.\n",
            "  warnings.warn(\n",
            "/usr/local/lib/python3.8/dist-packages/sklearn/neural_network/_multilayer_perceptron.py:692: ConvergenceWarning: Stochastic Optimizer: Maximum iterations (30) reached and the optimization hasn't converged yet.\n",
            "  warnings.warn(\n",
            "/usr/local/lib/python3.8/dist-packages/sklearn/neural_network/_multilayer_perceptron.py:692: ConvergenceWarning: Stochastic Optimizer: Maximum iterations (30) reached and the optimization hasn't converged yet.\n",
            "  warnings.warn(\n",
            "/usr/local/lib/python3.8/dist-packages/sklearn/neural_network/_multilayer_perceptron.py:692: ConvergenceWarning: Stochastic Optimizer: Maximum iterations (30) reached and the optimization hasn't converged yet.\n",
            "  warnings.warn(\n",
            "/usr/local/lib/python3.8/dist-packages/sklearn/neural_network/_multilayer_perceptron.py:692: ConvergenceWarning: Stochastic Optimizer: Maximum iterations (30) reached and the optimization hasn't converged yet.\n",
            "  warnings.warn(\n",
            "/usr/local/lib/python3.8/dist-packages/sklearn/neural_network/_multilayer_perceptron.py:692: ConvergenceWarning: Stochastic Optimizer: Maximum iterations (30) reached and the optimization hasn't converged yet.\n",
            "  warnings.warn(\n",
            "/usr/local/lib/python3.8/dist-packages/sklearn/neural_network/_multilayer_perceptron.py:692: ConvergenceWarning: Stochastic Optimizer: Maximum iterations (30) reached and the optimization hasn't converged yet.\n",
            "  warnings.warn(\n",
            "/usr/local/lib/python3.8/dist-packages/sklearn/neural_network/_multilayer_perceptron.py:692: ConvergenceWarning: Stochastic Optimizer: Maximum iterations (30) reached and the optimization hasn't converged yet.\n",
            "  warnings.warn(\n",
            "/usr/local/lib/python3.8/dist-packages/sklearn/neural_network/_multilayer_perceptron.py:692: ConvergenceWarning: Stochastic Optimizer: Maximum iterations (30) reached and the optimization hasn't converged yet.\n",
            "  warnings.warn(\n"
          ]
        },
        {
          "output_type": "execute_result",
          "data": {
            "text/plain": [
              "<function matplotlib.pyplot.show(*args, **kw)>"
            ]
          },
          "metadata": {},
          "execution_count": 49
        },
        {
          "output_type": "display_data",
          "data": {
            "text/plain": [
              "<Figure size 576x396 with 1 Axes>"
            ],
            "image/png": "[encoded data removed]"
          },
          "metadata": {}
        }
      ]
    },
    {
      "cell_type": "markdown",
      "source": [
        "### Baseline Predictor"
      ],
      "metadata": {
        "id": "D8luiE-0VT1X"
      }
    },
    {
      "cell_type": "code",
      "source": [
        "dmfr = DummyClassifier(strategy='most_frequent').fit(X_train, y_train)\n",
        "dmun = DummyClassifier(strategy='uniform').fit(X_train, y_train)"
      ],
      "metadata": {
        "id": "vMmlXiKuVT1Y"
      },
      "execution_count": 50,
      "outputs": []
    },
    {
      "cell_type": "code",
      "source": [
        "plot_ROC_curve(classifier, X_train, y_train, X_test, y_test)"
      ],
      "metadata": {
        "colab": {
          "base_uri": "https://localhost:8080/",
          "height": 0
        },
        "id": "B-QNX575nehg",
        "outputId": "bac8de97-ec94-4e7e-98f8-af5adb31e3a2"
      },
      "execution_count": 51,
      "outputs": [
        {
          "output_type": "stream",
          "name": "stderr",
          "text": [
            "/usr/local/lib/python3.8/dist-packages/sklearn/base.py:450: UserWarning: X does not have valid feature names, but MLPClassifier was fitted with feature names\n",
            "  warnings.warn(\n"
          ]
        },
        {
          "output_type": "execute_result",
          "data": {
            "text/plain": [
              "ROCAUC(ax=<matplotlib.axes._subplots.AxesSubplot object at 0x7f987edbbf40>,\n",
              "       encoder={0: '0', 1: '1', 2: '2', 3: '3'},\n",
              "       estimator=MLPClassifier(alpha=0.001,\n",
              "                               hidden_layer_sizes=(200, 150, 100, 50),\n",
              "                               max_iter=30, random_state=1),\n",
              "       macro=False, micro=False)"
            ]
          },
          "metadata": {},
          "execution_count": 51
        },
        {
          "output_type": "display_data",
          "data": {
            "text/plain": [
              "<Figure size 576x396 with 1 Axes>"
            ],
            "image/png": "[encoded data removed]"
          },
          "metadata": {}
        }
      ]
    },
    {
      "cell_type": "code",
      "source": [
        "print(\"\\n\\nDUMMY CLASSIFIER - frequent\")\n",
        "print(dmfr.score(X_test, y_test))\n",
        "y_pred = dmfr.predict(X_test)\n",
        "print_metrics(y_test, y_pred)"
      ],
      "metadata": {
        "colab": {
          "base_uri": "https://localhost:8080/"
        },
        "outputId": "6728616c-c597-4fd0-b265-45e64567e9be",
        "id": "OpKO3LxdVT1Y"
      },
      "execution_count": 52,
      "outputs": [
        {
          "output_type": "stream",
          "name": "stdout",
          "text": [
            "\n",
            "\n",
            "DUMMY CLASSIFIER - frequent\n",
            "0.41798941798941797\n",
            "----------CONFUSION-MATRIX----------\n",
            "[[  0 108   0]\n",
            " [  0 158   0]\n",
            " [  0 112   0]]\n",
            "----------CLASSIFICATION-REPORT----------\n",
            "              precision    recall  f1-score   support\n",
            "\n",
            "           0       0.00      0.00      0.00       108\n",
            "           1       0.42      1.00      0.59       158\n",
            "           2       0.00      0.00      0.00       112\n",
            "\n",
            "    accuracy                           0.42       378\n",
            "   macro avg       0.14      0.33      0.20       378\n",
            "weighted avg       0.17      0.42      0.25       378\n",
            "\n"
          ]
        },
        {
          "output_type": "stream",
          "name": "stderr",
          "text": [
            "/usr/local/lib/python3.8/dist-packages/sklearn/metrics/_classification.py:1318: UndefinedMetricWarning: Precision and F-score are ill-defined and being set to 0.0 in labels with no predicted samples. Use `zero_division` parameter to control this behavior.\n",
            "  _warn_prf(average, modifier, msg_start, len(result))\n",
            "/usr/local/lib/python3.8/dist-packages/sklearn/metrics/_classification.py:1318: UndefinedMetricWarning: Precision and F-score are ill-defined and being set to 0.0 in labels with no predicted samples. Use `zero_division` parameter to control this behavior.\n",
            "  _warn_prf(average, modifier, msg_start, len(result))\n",
            "/usr/local/lib/python3.8/dist-packages/sklearn/metrics/_classification.py:1318: UndefinedMetricWarning: Precision and F-score are ill-defined and being set to 0.0 in labels with no predicted samples. Use `zero_division` parameter to control this behavior.\n",
            "  _warn_prf(average, modifier, msg_start, len(result))\n"
          ]
        }
      ]
    },
    {
      "cell_type": "code",
      "source": [
        "print(\"\\n\\nDUMMY CLASSIFIER - uniform\")\n",
        "print(dmun.score(X_test, y_test))\n",
        "ypred = dmun.predict(X_test)\n",
        "print_metrics(y_test, y_pred)"
      ],
      "metadata": {
        "colab": {
          "base_uri": "https://localhost:8080/"
        },
        "outputId": "44a220ce-fe55-4906-c7a4-906a110a07ee",
        "id": "9rqf76SrVT1Z"
      },
      "execution_count": 53,
      "outputs": [
        {
          "output_type": "stream",
          "name": "stdout",
          "text": [
            "\n",
            "\n",
            "DUMMY CLASSIFIER - uniform\n",
            "0.3386243386243386\n",
            "----------CONFUSION-MATRIX----------\n",
            "[[  0 108   0]\n",
            " [  0 158   0]\n",
            " [  0 112   0]]\n",
            "----------CLASSIFICATION-REPORT----------\n",
            "              precision    recall  f1-score   support\n",
            "\n",
            "           0       0.00      0.00      0.00       108\n",
            "           1       0.42      1.00      0.59       158\n",
            "           2       0.00      0.00      0.00       112\n",
            "\n",
            "    accuracy                           0.42       378\n",
            "   macro avg       0.14      0.33      0.20       378\n",
            "weighted avg       0.17      0.42      0.25       378\n",
            "\n"
          ]
        },
        {
          "output_type": "stream",
          "name": "stderr",
          "text": [
            "/usr/local/lib/python3.8/dist-packages/sklearn/metrics/_classification.py:1318: UndefinedMetricWarning: Precision and F-score are ill-defined and being set to 0.0 in labels with no predicted samples. Use `zero_division` parameter to control this behavior.\n",
            "  _warn_prf(average, modifier, msg_start, len(result))\n",
            "/usr/local/lib/python3.8/dist-packages/sklearn/metrics/_classification.py:1318: UndefinedMetricWarning: Precision and F-score are ill-defined and being set to 0.0 in labels with no predicted samples. Use `zero_division` parameter to control this behavior.\n",
            "  _warn_prf(average, modifier, msg_start, len(result))\n",
            "/usr/local/lib/python3.8/dist-packages/sklearn/metrics/_classification.py:1318: UndefinedMetricWarning: Precision and F-score are ill-defined and being set to 0.0 in labels with no predicted samples. Use `zero_division` parameter to control this behavior.\n",
            "  _warn_prf(average, modifier, msg_start, len(result))\n"
          ]
        }
      ]
    },
    {
      "cell_type": "markdown",
      "source": [
        "# Naive Bayes Classifier"
      ],
      "metadata": {
        "id": "-dbhiIXmbY6Z"
      }
    },
    {
      "cell_type": "code",
      "source": [
        "from sklearn.naive_bayes import GaussianNB\n",
        "\n",
        "X = playlist_train[FEATURES]\n",
        "y = playlist_train['playlist_uri']\n",
        "\n",
        "X_train, X_test, y_train, y_test = train_test_split(X, y, test_size=0.2, random_state = 1)\n",
        "\n",
        "gnb = GaussianNB()\n",
        "\n",
        "gnb.fit(X_train, y_train)\n",
        "y_pred = gnb.predict(X_test)\n",
        "\n",
        "print_metrics(y_test, y_pred)"
      ],
      "metadata": {
        "id": "t2u0t2OlbdMe",
        "colab": {
          "base_uri": "https://localhost:8080/"
        },
        "outputId": "32d134a1-41c4-4a6d-90b8-9b1688b97a45"
      },
      "execution_count": 54,
      "outputs": [
        {
          "output_type": "stream",
          "name": "stdout",
          "text": [
            "----------CONFUSION-MATRIX----------\n",
            "[[ 45  19  44]\n",
            " [ 21 134   3]\n",
            " [ 26   5  81]]\n",
            "----------CLASSIFICATION-REPORT----------\n",
            "              precision    recall  f1-score   support\n",
            "\n",
            "           0       0.49      0.42      0.45       108\n",
            "           1       0.85      0.85      0.85       158\n",
            "           2       0.63      0.72      0.68       112\n",
            "\n",
            "    accuracy                           0.69       378\n",
            "   macro avg       0.66      0.66      0.66       378\n",
            "weighted avg       0.68      0.69      0.68       378\n",
            "\n"
          ]
        }
      ]
    },
    {
      "cell_type": "code",
      "source": [
        "y_pred = gnb.predict(X_train)\n",
        "print_metrics(y_train, y_pred)"
      ],
      "metadata": {
        "colab": {
          "base_uri": "https://localhost:8080/"
        },
        "id": "wB_84d2edIW4",
        "outputId": "5fc71776-9047-4669-a143-5da990831488"
      },
      "execution_count": 55,
      "outputs": [
        {
          "output_type": "stream",
          "name": "stdout",
          "text": [
            "----------CONFUSION-MATRIX----------\n",
            "[[184  57 197]\n",
            " [108 532  25]\n",
            " [ 65  22 318]]\n",
            "----------CLASSIFICATION-REPORT----------\n",
            "              precision    recall  f1-score   support\n",
            "\n",
            "           0       0.52      0.42      0.46       438\n",
            "           1       0.87      0.80      0.83       665\n",
            "           2       0.59      0.79      0.67       405\n",
            "\n",
            "    accuracy                           0.69      1508\n",
            "   macro avg       0.66      0.67      0.66      1508\n",
            "weighted avg       0.69      0.69      0.68      1508\n",
            "\n"
          ]
        }
      ]
    },
    {
      "cell_type": "code",
      "source": [
        "import seaborn as sns\n",
        "fig, axs = plt.subplots(1, 4, figsize=(20,7))\n",
        "sns.kdeplot(X_train['duration_ms'], shade=True, color=\"r\", ax = axs[0])\n",
        "sns.kdeplot(X_train['key'], shade=True, color=\"r\", ax = axs[1])\n",
        "sns.kdeplot(X_train['loudness'], shade=True, color=\"r\", ax = axs[2])\n",
        "sns.kdeplot(X_train['tempo'], shade=True, color=\"r\", ax = axs[3])"
      ],
      "metadata": {
        "colab": {
          "base_uri": "https://localhost:8080/",
          "height": 432
        },
        "id": "yrCOFyTxIozd",
        "outputId": "49f5175f-6a12-43a9-c851-579811de2549"
      },
      "execution_count": 57,
      "outputs": [
        {
          "output_type": "execute_result",
          "data": {
            "text/plain": [
              "<matplotlib.axes._subplots.AxesSubplot at 0x7f987e672d90>"
            ]
          },
          "metadata": {},
          "execution_count": 57
        },
        {
          "output_type": "display_data",
          "data": {
            "text/plain": [
              "<Figure size 1440x504 with 4 Axes>"
            ],
            "image/png": "[encoded data removed]"
          },
          "metadata": {}
        }
      ]
    },
    {
      "cell_type": "code",
      "source": [
        "gnb.class_prior_"
      ],
      "metadata": {
        "colab": {
          "base_uri": "https://localhost:8080/"
        },
        "id": "wurkp8vIMtEK",
        "outputId": "27e519ef-14b5-4de2-ac1b-d383e80514d4"
      },
      "execution_count": 58,
      "outputs": [
        {
          "output_type": "execute_result",
          "data": {
            "text/plain": [
              "array([0.29045093, 0.44098143, 0.26856764])"
            ]
          },
          "metadata": {},
          "execution_count": 58
        }
      ]
    },
    {
      "cell_type": "markdown",
      "source": [
        "### Baseline Predictor"
      ],
      "metadata": {
        "id": "-ToapUNkrAZ8"
      }
    },
    {
      "cell_type": "code",
      "source": [
        "dmfr = DummyClassifier(strategy='most_frequent').fit(X_train, y_train)\n",
        "dstrut = DummyClassifier(strategy='stratified').fit(X_train, y_train)"
      ],
      "metadata": {
        "id": "00O8FdKmrAZ8"
      },
      "execution_count": 67,
      "outputs": []
    },
    {
      "cell_type": "code",
      "source": [
        "plot_ROC_curve(gnb, X_train, y_train, X_test, y_test)"
      ],
      "metadata": {
        "colab": {
          "base_uri": "https://localhost:8080/",
          "height": 485
        },
        "outputId": "1f560c3d-c0a9-47e1-98c7-fab7ae315f75",
        "id": "NRqTaPP_rAZ8"
      },
      "execution_count": 68,
      "outputs": [
        {
          "output_type": "stream",
          "name": "stderr",
          "text": [
            "/usr/local/lib/python3.8/dist-packages/sklearn/base.py:450: UserWarning: X does not have valid feature names, but GaussianNB was fitted with feature names\n",
            "  warnings.warn(\n"
          ]
        },
        {
          "output_type": "execute_result",
          "data": {
            "text/plain": [
              "ROCAUC(ax=<matplotlib.axes._subplots.AxesSubplot object at 0x7f987b9e1be0>,\n",
              "       encoder={0: '0', 1: '1', 2: '2', 3: '3'}, estimator=GaussianNB(),\n",
              "       macro=False, micro=False)"
            ]
          },
          "metadata": {},
          "execution_count": 68
        },
        {
          "output_type": "display_data",
          "data": {
            "text/plain": [
              "<Figure size 576x396 with 1 Axes>"
            ],
            "image/png": "[encoded data removed]"
          },
          "metadata": {}
        }
      ]
    },
    {
      "cell_type": "code",
      "source": [
        "print(\"\\n\\nDUMMY CLASSIFIER - frequent\")\n",
        "print(dmfr.score(X_test, y_test))\n",
        "y_pred = dmfr.predict(X_test)\n",
        "print_metrics(y_test, y_pred)"
      ],
      "metadata": {
        "colab": {
          "base_uri": "https://localhost:8080/"
        },
        "outputId": "40bf20bd-701b-417e-8cae-a2de662cdbed",
        "id": "XkLP6h3srAZ9"
      },
      "execution_count": 69,
      "outputs": [
        {
          "output_type": "stream",
          "name": "stdout",
          "text": [
            "\n",
            "\n",
            "DUMMY CLASSIFIER - frequent\n",
            "0.41798941798941797\n",
            "----------CONFUSION-MATRIX----------\n",
            "[[  0 108   0]\n",
            " [  0 158   0]\n",
            " [  0 112   0]]\n",
            "----------CLASSIFICATION-REPORT----------\n",
            "              precision    recall  f1-score   support\n",
            "\n",
            "           0       0.00      0.00      0.00       108\n",
            "           1       0.42      1.00      0.59       158\n",
            "           2       0.00      0.00      0.00       112\n",
            "\n",
            "    accuracy                           0.42       378\n",
            "   macro avg       0.14      0.33      0.20       378\n",
            "weighted avg       0.17      0.42      0.25       378\n",
            "\n"
          ]
        },
        {
          "output_type": "stream",
          "name": "stderr",
          "text": [
            "/usr/local/lib/python3.8/dist-packages/sklearn/metrics/_classification.py:1318: UndefinedMetricWarning: Precision and F-score are ill-defined and being set to 0.0 in labels with no predicted samples. Use `zero_division` parameter to control this behavior.\n",
            "  _warn_prf(average, modifier, msg_start, len(result))\n",
            "/usr/local/lib/python3.8/dist-packages/sklearn/metrics/_classification.py:1318: UndefinedMetricWarning: Precision and F-score are ill-defined and being set to 0.0 in labels with no predicted samples. Use `zero_division` parameter to control this behavior.\n",
            "  _warn_prf(average, modifier, msg_start, len(result))\n",
            "/usr/local/lib/python3.8/dist-packages/sklearn/metrics/_classification.py:1318: UndefinedMetricWarning: Precision and F-score are ill-defined and being set to 0.0 in labels with no predicted samples. Use `zero_division` parameter to control this behavior.\n",
            "  _warn_prf(average, modifier, msg_start, len(result))\n"
          ]
        }
      ]
    },
    {
      "cell_type": "code",
      "source": [
        "print(\"\\n\\nDUMMY CLASSIFIER - Stratified\")\n",
        "print(dstrut.score(X_test, y_test))\n",
        "ypred = dstrut.predict(X_test)\n",
        "print_metrics(y_test, y_pred)"
      ],
      "metadata": {
        "colab": {
          "base_uri": "https://localhost:8080/"
        },
        "outputId": "f5e1977d-a2d2-4da9-fa5d-46aec8706df9",
        "id": "-GBv_NcwrAZ9"
      },
      "execution_count": 70,
      "outputs": [
        {
          "output_type": "stream",
          "name": "stdout",
          "text": [
            "\n",
            "\n",
            "DUMMY CLASSIFIER - Stratified\n",
            "0.3386243386243386\n",
            "----------CONFUSION-MATRIX----------\n",
            "[[  0 108   0]\n",
            " [  0 158   0]\n",
            " [  0 112   0]]\n",
            "----------CLASSIFICATION-REPORT----------\n",
            "              precision    recall  f1-score   support\n",
            "\n",
            "           0       0.00      0.00      0.00       108\n",
            "           1       0.42      1.00      0.59       158\n",
            "           2       0.00      0.00      0.00       112\n",
            "\n",
            "    accuracy                           0.42       378\n",
            "   macro avg       0.14      0.33      0.20       378\n",
            "weighted avg       0.17      0.42      0.25       378\n",
            "\n"
          ]
        },
        {
          "output_type": "stream",
          "name": "stderr",
          "text": [
            "/usr/local/lib/python3.8/dist-packages/sklearn/metrics/_classification.py:1318: UndefinedMetricWarning: Precision and F-score are ill-defined and being set to 0.0 in labels with no predicted samples. Use `zero_division` parameter to control this behavior.\n",
            "  _warn_prf(average, modifier, msg_start, len(result))\n",
            "/usr/local/lib/python3.8/dist-packages/sklearn/metrics/_classification.py:1318: UndefinedMetricWarning: Precision and F-score are ill-defined and being set to 0.0 in labels with no predicted samples. Use `zero_division` parameter to control this behavior.\n",
            "  _warn_prf(average, modifier, msg_start, len(result))\n",
            "/usr/local/lib/python3.8/dist-packages/sklearn/metrics/_classification.py:1318: UndefinedMetricWarning: Precision and F-score are ill-defined and being set to 0.0 in labels with no predicted samples. Use `zero_division` parameter to control this behavior.\n",
            "  _warn_prf(average, modifier, msg_start, len(result))\n"
          ]
        }
      ]
    }
  ]
}